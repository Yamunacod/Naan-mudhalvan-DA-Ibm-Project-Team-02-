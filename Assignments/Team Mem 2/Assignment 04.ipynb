{
  "cells": [
    {
      "cell_type": "code",
      "execution_count": 1,
      "metadata": {
        "trusted": true
      },
      "outputs": [
        {
          "name": "stdout",
          "output_type": "stream",
          "text": [
            "Name : Varsha K\n",
            "Reg No : 310820104107 \n",
            "Domain : Data Analytics\n",
            "Assignment 4\n"
          ]
        }
      ],
      "source": [
        "print(\"Name : Varsha K\") \n",
        "\n",
        "print(\"Reg No : 310820104107 \")\n",
        "\n",
        "print(\"Domain : Data Analytics\")\n",
        "\n",
        "print(\"Assignment 4\")"
      ]
    },
    {
      "cell_type": "code",
      "execution_count": 2,
      "metadata": {
        "trusted": true
      },
      "outputs": [
        {
          "name": "stdout",
          "output_type": "stream",
          "text": [
            "['This', 'is', 'Task', 2]\n"
          ]
        }
      ],
      "source": [
        "# Task - 1 Create two list and join those two list\n",
        "\n",
        "list_1 = [\"This\",\"is\"]\n",
        "list_2 = [\"Task\", 2 ]\n",
        "join_list = list_1+list_2\n",
        "print(join_list)"
      ]
    },
    {
      "cell_type": "code",
      "execution_count": 3,
      "metadata": {
        "trusted": true
      },
      "outputs": [
        {
          "name": "stdout",
          "output_type": "stream",
          "text": [
            "0  is a Even Number\n",
            "2  is a Even Number\n",
            "4  is a Even Number\n",
            "6  is a Even Number\n",
            "8  is a Even Number\n",
            "10  is a Even Number\n"
          ]
        }
      ],
      "source": [
        "# Task - 2 With If statement find the even numbers\n",
        "\n",
        "for i in range(0,11,1):\n",
        "    if i % 2 == 0 :\n",
        "        print(i,\" is a Even Number\")"
      ]
    },
    {
      "cell_type": "code",
      "execution_count": 4,
      "metadata": {
        "trusted": true
      },
      "outputs": [
        {
          "name": "stdout",
          "output_type": "stream",
          "text": [
            "dict_keys(['pizza', 'quantity', 'price'])\n",
            "['Large', 'Medium']\n",
            "[2, 5]\n",
            "['Large', 'Medium']\n"
          ]
        }
      ],
      "source": [
        "# Task - 3 Create a dictionary with 3 keys and 2 values for each key\n",
        "\n",
        "d = {\n",
        "    'pizza':['Large','Medium'],\n",
        "    'quantity':[2,5],\n",
        "    'price' : [990,850]\n",
        "               }\n",
        "print(d.keys())\n",
        "print(d[\"pizza\"])\n",
        "print(d[\"quantity\"])\n",
        "print(d[\"pizza\"])"
      ]
    },
    {
      "cell_type": "code",
      "execution_count": 5,
      "metadata": {
        "trusted": true
      },
      "outputs": [
        {
          "name": "stdout",
          "output_type": "stream",
          "text": [
            "1  is a Odd Number\n",
            "3  is a Odd Number\n",
            "5  is a Odd Number\n",
            "7  is a Odd Number\n",
            "9  is a Odd Number\n"
          ]
        }
      ],
      "source": [
        "# Task - 4 Create a function with If statement whis is used to find the odd numbers\n",
        "\n",
        "def find_odd(n):\n",
        "    n = int(n)\n",
        "    for i in range(0,n,1):\n",
        "        if i%2 != 0:\n",
        "            print(i,\" is a Odd Number\")\n",
        "\n",
        "# n = input(\"Enter a Number upto which you want to find odd numbers ? \") could be used \n",
        "n = 10\n",
        "\n",
        "# calling the function \n",
        "        \n",
        "find_odd(n)\n",
        "    "
      ]
    },
    {
      "cell_type": "code",
      "execution_count": null,
      "metadata": {},
      "outputs": [],
      "source": []
    },
    {
      "cell_type": "code",
      "execution_count": 6,
      "metadata": {
        "trusted": true
      },
      "outputs": [
        {
          "name": "stdout",
          "output_type": "stream",
          "text": [
            "20\n"
          ]
        }
      ],
      "source": [
        "''' Task - 5\n",
        "Write a Python function to sum all the numbers in a list.\n",
        "Sample List : (8, 2, 3, 0, 7)\n",
        "Expected Output : 20'''\n",
        "\n",
        "def sum_of_list(Sample_List):\n",
        "    sum = 0\n",
        "    for i in Sample_List:\n",
        "        sum += i\n",
        "    print(sum)\n",
        "Sample_List = [8, 2, 3, 0, 7]\n",
        "sum_of_list(Sample_List)\n"
      ]
    },
    {
      "cell_type": "code",
      "execution_count": null,
      "metadata": {},
      "outputs": [],
      "source": []
    },
    {
      "cell_type": "code",
      "execution_count": null,
      "metadata": {},
      "outputs": [],
      "source": []
    }
  ],
  "metadata": {
    "kernelspec": {
      "display_name": "Python 3",
      "language": "python",
      "name": "python3"
    },
    "language_info": {
      "codemirror_mode": {
        "name": "ipython",
        "version": 3
      },
      "file_extension": ".py",
      "mimetype": "text/x-python",
      "name": "python",
      "nbconvert_exporter": "python",
      "pygments_lexer": "ipython3",
      "version": "3.11.3"
    }
  },
  "nbformat": 4,
  "nbformat_minor": 4
}
